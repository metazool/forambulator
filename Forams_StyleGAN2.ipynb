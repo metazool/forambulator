{
  "nbformat": 4,
  "nbformat_minor": 0,
  "metadata": {
    "colab": {
      "name": "Forams_StyleGAN2.ipynb",
      "provenance": [],
      "collapsed_sections": [],
      "machine_shape": "hm"
    },
    "kernelspec": {
      "name": "python3",
      "display_name": "Python 3"
    },
    "accelerator": "GPU"
  },
  "cells": [
    {
      "cell_type": "markdown",
      "metadata": {
        "id": "FKjtDBq_gPR9",
        "colab_type": "text"
      },
      "source": [
        "Connect Colab notebook to Google Drive and git clone the forambulator project"
      ]
    },
    {
      "cell_type": "code",
      "metadata": {
        "id": "aegpLsoGi9o7",
        "colab_type": "code",
        "colab": {}
      },
      "source": [
        "import os\n",
        "from google.colab import drive\n",
        "drive.mount('/content/drive')\n",
        "home = '/content/drive/My Drive/Forams'\n",
        "os.chdir(home)\n",
        "!git clone https://github.com/metazool/forambulator"
      ],
      "execution_count": 0,
      "outputs": []
    },
    {
      "cell_type": "markdown",
      "metadata": {
        "id": "oss_JncfgdWw",
        "colab_type": "text"
      },
      "source": [
        "Optionally pull any updates from git if the drive is already mounted"
      ]
    },
    {
      "cell_type": "code",
      "metadata": {
        "id": "IMHKG0GZorDv",
        "colab_type": "code",
        "outputId": "69cb7cc6-d9d0-4797-8683-963861ff1013",
        "colab": {
          "base_uri": "https://localhost:8080/",
          "height": 67
        }
      },
      "source": [
        "import os, sys\n",
        "home = '/content/drive/My Drive/Forams'\n",
        "os.chdir(home)\n",
        "os.chdir('forambulator')\n",
        "!git pull\n",
        "!git checkout stylegan2\n",
        "os.chdir(home)\n",
        "import sys\n",
        "sys.path.append('./forambulator')"
      ],
      "execution_count": 2,
      "outputs": [
        {
          "output_type": "stream",
          "text": [
            "Already up to date.\n",
            "Already on 'stylegan2'\n",
            "Your branch is up to date with 'origin/stylegan2'.\n"
          ],
          "name": "stdout"
        }
      ]
    },
    {
      "cell_type": "markdown",
      "metadata": {
        "id": "t7iQA2Klhd5e",
        "colab_type": "text"
      },
      "source": [
        "**Run only once:** collect images from Endless Forams. They'll end up in subdirectories of `./data` matching the taxonomic label for each set. We keep the metadata around for good measure"
      ]
    },
    {
      "cell_type": "code",
      "metadata": {
        "id": "PGPufeX4muVs",
        "colab_type": "code",
        "colab": {}
      },
      "source": [
        "import sys\n",
        "sys.path.append('forambulator')\n",
        "from forams.download import download_capsules\n",
        "download_capsules()"
      ],
      "execution_count": 0,
      "outputs": []
    },
    {
      "cell_type": "markdown",
      "metadata": {
        "id": "3jSSiLOHg0HF",
        "colab_type": "text"
      },
      "source": [
        "**Run only once:** Given a collection of Endless Forams images in `./data`, make a best-faith attempt to extract only the regions containing the foram, leaving a set of 256*256 images in `DIRECTORY`"
      ]
    },
    {
      "cell_type": "code",
      "metadata": {
        "id": "fhxPxNITJBVr",
        "colab_type": "code",
        "colab": {}
      },
      "source": [
        "from forams.images import list_image_filenames, crop_foram, NoForamFound\n",
        "images = list_image_filenames('./data')\n",
        "DIRECTORY = 'cropped_256'\n",
        "for image in images:\n",
        "    try:\n",
        "        crop_foram(image, directory=DIRECTORY)\n",
        "    except NoForamFound:\n",
        "        pass"
      ],
      "execution_count": 0,
      "outputs": []
    },
    {
      "cell_type": "markdown",
      "metadata": {
        "id": "OEWD6WC7hKWG",
        "colab_type": "text"
      },
      "source": [
        "**Run only once**: convert the image dataset into `tfrecords` form for use by the network\n"
      ]
    },
    {
      "cell_type": "code",
      "metadata": {
        "id": "0bfRAlXzLeAL",
        "colab_type": "code",
        "colab": {}
      },
      "source": [
        "from forams.images import tfrecords_from_images\n",
        "os.mkdir('tfrecords')\n",
        "tfrecords_from_images('./tfrecords','./cropped_256', True)"
      ],
      "execution_count": 0,
      "outputs": []
    },
    {
      "cell_type": "markdown",
      "metadata": {
        "id": "ZJK_uxUrPVSz",
        "colab_type": "text"
      },
      "source": [
        "Check out the stylegan2 repository and collect any updates\n"
      ]
    },
    {
      "cell_type": "code",
      "metadata": {
        "id": "PlReG07PPR6g",
        "colab_type": "code",
        "outputId": "d1e2e9b7-a1cc-48f5-e620-15913b0a16de",
        "colab": {
          "base_uri": "https://localhost:8080/",
          "height": 50
        }
      },
      "source": [
        "import os, sys\n",
        "!git clone https://github.com/NVLabs/stylegan2\n",
        "os.chdir('stylegan2')\n",
        "!git pull\n",
        "os.chdir(home)\n",
        "sys.path.append('stylegan2')"
      ],
      "execution_count": 4,
      "outputs": [
        {
          "output_type": "stream",
          "text": [
            "fatal: destination path 'stylegan2' already exists and is not an empty directory.\n",
            "Already up to date.\n"
          ],
          "name": "stdout"
        }
      ]
    },
    {
      "cell_type": "markdown",
      "metadata": {
        "id": "wE1VXmb9iuZn",
        "colab_type": "text"
      },
      "source": [
        "Start training the model. If we have a previous colab run to restart from, provide its filename."
      ]
    },
    {
      "cell_type": "code",
      "metadata": {
        "id": "CCv4EmYWWDee",
        "colab_type": "code",
        "outputId": "6b0d10d3-9e42-4809-dd76-1c0ac9b1a793",
        "colab": {
          "base_uri": "https://localhost:8080/",
          "height": 1000
        }
      },
      "source": [
        "import sys\n",
        "sys.path.append('stylegan2')\n",
        "\n",
        "# resume_from_filename = os.path.join(home, 'results/00008-sgan-custom-1gpu/network-snapshot-003045.pkl')\n",
        "resume_from_filename = None\n",
        "\n",
        "import forams.train\n",
        "forams.train.train(data_dir=home,\n",
        "                   dataset='tfrecords', \n",
        "                   metrics=[],\n",
        "                   resume_from=resume_from_filename,\n",
        "                   save_ticks=2)\n"
      ],
      "execution_count": 0,
      "outputs": [
        {
          "output_type": "stream",
          "text": [
            "Local submit - run_dir: results/00014-stylegan2-tfrecords-1gpu-config-f\n",
            "dnnlib: Running training.training_loop.training_loop() on localhost...\n"
          ],
          "name": "stdout"
        },
        {
          "output_type": "display_data",
          "data": {
            "text/html": [
              "<p style=\"color: red;\">\n",
              "The default version of TensorFlow in Colab will soon switch to TensorFlow 2.x.<br>\n",
              "We recommend you <a href=\"https://www.tensorflow.org/guide/migrate\" target=\"_blank\">upgrade</a> now \n",
              "or ensure your notebook will continue to use TensorFlow 1.x via the <code>%tensorflow_version 1.x</code> magic:\n",
              "<a href=\"https://colab.research.google.com/notebooks/tensorflow_version.ipynb\" target=\"_blank\">more info</a>.</p>\n"
            ],
            "text/plain": [
              "<IPython.core.display.HTML object>"
            ]
          },
          "metadata": {
            "tags": []
          }
        },
        {
          "output_type": "stream",
          "text": [
            "Streaming data using training.dataset.TFRecordDataset...\n"
          ],
          "name": "stdout"
        },
        {
          "output_type": "stream",
          "text": [
            "INFO:numexpr.utils:NumExpr defaulting to 4 threads.\n"
          ],
          "name": "stderr"
        },
        {
          "output_type": "stream",
          "text": [
            "Dataset shape = [1, 256, 256]\n",
            "Dynamic range = [0, 255]\n",
            "Label size    = 0\n",
            "Constructing networks...\n",
            "Setting up TensorFlow plugin \"fused_bias_act.cu\": Preprocessing... Loading... Done.\n",
            "Setting up TensorFlow plugin \"upfirdn_2d.cu\": Preprocessing... Loading... Done.\n",
            "\n",
            "G                             Params    OutputShape         WeightShape     \n",
            "---                           ---       ---                 ---             \n",
            "latents_in                    -         (?, 512)            -               \n",
            "labels_in                     -         (?, 0)              -               \n",
            "lod                           -         ()                  -               \n",
            "dlatent_avg                   -         (512,)              -               \n",
            "G_mapping/latents_in          -         (?, 512)            -               \n",
            "G_mapping/labels_in           -         (?, 0)              -               \n",
            "G_mapping/Normalize           -         (?, 512)            -               \n",
            "G_mapping/Dense0              262656    (?, 512)            (512, 512)      \n",
            "G_mapping/Dense1              262656    (?, 512)            (512, 512)      \n",
            "G_mapping/Dense2              262656    (?, 512)            (512, 512)      \n",
            "G_mapping/Dense3              262656    (?, 512)            (512, 512)      \n",
            "G_mapping/Dense4              262656    (?, 512)            (512, 512)      \n",
            "G_mapping/Dense5              262656    (?, 512)            (512, 512)      \n",
            "G_mapping/Dense6              262656    (?, 512)            (512, 512)      \n",
            "G_mapping/Dense7              262656    (?, 512)            (512, 512)      \n",
            "G_mapping/Broadcast           -         (?, 14, 512)        -               \n",
            "G_mapping/dlatents_out        -         (?, 14, 512)        -               \n",
            "Truncation/Lerp               -         (?, 14, 512)        -               \n",
            "G_synthesis/dlatents_in       -         (?, 14, 512)        -               \n",
            "G_synthesis/4x4/Const         8192      (?, 512, 4, 4)      (1, 512, 4, 4)  \n",
            "G_synthesis/4x4/Conv          2622465   (?, 512, 4, 4)      (3, 3, 512, 512)\n",
            "G_synthesis/4x4/ToRGB         263169    (?, 1, 4, 4)        (1, 1, 512, 1)  \n",
            "G_synthesis/8x8/Conv0_up      2622465   (?, 512, 8, 8)      (3, 3, 512, 512)\n",
            "G_synthesis/8x8/Conv1         2622465   (?, 512, 8, 8)      (3, 3, 512, 512)\n",
            "G_synthesis/8x8/Upsample      -         (?, 1, 8, 8)        -               \n",
            "G_synthesis/8x8/ToRGB         263169    (?, 1, 8, 8)        (1, 1, 512, 1)  \n",
            "G_synthesis/16x16/Conv0_up    2622465   (?, 512, 16, 16)    (3, 3, 512, 512)\n",
            "G_synthesis/16x16/Conv1       2622465   (?, 512, 16, 16)    (3, 3, 512, 512)\n",
            "G_synthesis/16x16/Upsample    -         (?, 1, 16, 16)      -               \n",
            "G_synthesis/16x16/ToRGB       263169    (?, 1, 16, 16)      (1, 1, 512, 1)  \n",
            "G_synthesis/32x32/Conv0_up    2622465   (?, 512, 32, 32)    (3, 3, 512, 512)\n",
            "G_synthesis/32x32/Conv1       2622465   (?, 512, 32, 32)    (3, 3, 512, 512)\n",
            "G_synthesis/32x32/Upsample    -         (?, 1, 32, 32)      -               \n",
            "G_synthesis/32x32/ToRGB       263169    (?, 1, 32, 32)      (1, 1, 512, 1)  \n",
            "G_synthesis/64x64/Conv0_up    2622465   (?, 512, 64, 64)    (3, 3, 512, 512)\n",
            "G_synthesis/64x64/Conv1       2622465   (?, 512, 64, 64)    (3, 3, 512, 512)\n",
            "G_synthesis/64x64/Upsample    -         (?, 1, 64, 64)      -               \n",
            "G_synthesis/64x64/ToRGB       263169    (?, 1, 64, 64)      (1, 1, 512, 1)  \n",
            "G_synthesis/128x128/Conv0_up  1442561   (?, 256, 128, 128)  (3, 3, 512, 256)\n",
            "G_synthesis/128x128/Conv1     721409    (?, 256, 128, 128)  (3, 3, 256, 256)\n",
            "G_synthesis/128x128/Upsample  -         (?, 1, 128, 128)    -               \n",
            "G_synthesis/128x128/ToRGB     131585    (?, 1, 128, 128)    (1, 1, 256, 1)  \n",
            "G_synthesis/256x256/Conv0_up  426369    (?, 128, 256, 256)  (3, 3, 256, 128)\n",
            "G_synthesis/256x256/Conv1     213249    (?, 128, 256, 256)  (3, 3, 128, 128)\n",
            "G_synthesis/256x256/Upsample  -         (?, 1, 256, 256)    -               \n",
            "G_synthesis/256x256/ToRGB     65793     (?, 1, 256, 256)    (1, 1, 128, 1)  \n",
            "G_synthesis/images_out        -         (?, 1, 256, 256)    -               \n",
            "G_synthesis/noise0            -         (1, 1, 4, 4)        -               \n",
            "G_synthesis/noise1            -         (1, 1, 8, 8)        -               \n",
            "G_synthesis/noise2            -         (1, 1, 8, 8)        -               \n",
            "G_synthesis/noise3            -         (1, 1, 16, 16)      -               \n",
            "G_synthesis/noise4            -         (1, 1, 16, 16)      -               \n",
            "G_synthesis/noise5            -         (1, 1, 32, 32)      -               \n",
            "G_synthesis/noise6            -         (1, 1, 32, 32)      -               \n",
            "G_synthesis/noise7            -         (1, 1, 64, 64)      -               \n",
            "G_synthesis/noise8            -         (1, 1, 64, 64)      -               \n",
            "G_synthesis/noise9            -         (1, 1, 128, 128)    -               \n",
            "G_synthesis/noise10           -         (1, 1, 128, 128)    -               \n",
            "G_synthesis/noise11           -         (1, 1, 256, 256)    -               \n",
            "G_synthesis/noise12           -         (1, 1, 256, 256)    -               \n",
            "images_out                    -         (?, 1, 256, 256)    -               \n",
            "---                           ---       ---                 ---             \n",
            "Total                         30028436                                      \n",
            "\n",
            "\n",
            "D                    Params    OutputShape         WeightShape     \n",
            "---                  ---       ---                 ---             \n",
            "images_in            -         (?, 1, 256, 256)    -               \n",
            "labels_in            -         (?, 0)              -               \n",
            "256x256/FromRGB      256       (?, 128, 256, 256)  (1, 1, 1, 128)  \n",
            "256x256/Conv0        147584    (?, 128, 256, 256)  (3, 3, 128, 128)\n",
            "256x256/Conv1_down   295168    (?, 256, 128, 128)  (3, 3, 128, 256)\n",
            "256x256/Skip         32768     (?, 256, 128, 128)  (1, 1, 128, 256)\n",
            "128x128/Conv0        590080    (?, 256, 128, 128)  (3, 3, 256, 256)\n",
            "128x128/Conv1_down   1180160   (?, 512, 64, 64)    (3, 3, 256, 512)\n",
            "128x128/Skip         131072    (?, 512, 64, 64)    (1, 1, 256, 512)\n",
            "64x64/Conv0          2359808   (?, 512, 64, 64)    (3, 3, 512, 512)\n",
            "64x64/Conv1_down     2359808   (?, 512, 32, 32)    (3, 3, 512, 512)\n",
            "64x64/Skip           262144    (?, 512, 32, 32)    (1, 1, 512, 512)\n",
            "32x32/Conv0          2359808   (?, 512, 32, 32)    (3, 3, 512, 512)\n",
            "32x32/Conv1_down     2359808   (?, 512, 16, 16)    (3, 3, 512, 512)\n",
            "32x32/Skip           262144    (?, 512, 16, 16)    (1, 1, 512, 512)\n",
            "16x16/Conv0          2359808   (?, 512, 16, 16)    (3, 3, 512, 512)\n",
            "16x16/Conv1_down     2359808   (?, 512, 8, 8)      (3, 3, 512, 512)\n",
            "16x16/Skip           262144    (?, 512, 8, 8)      (1, 1, 512, 512)\n",
            "8x8/Conv0            2359808   (?, 512, 8, 8)      (3, 3, 512, 512)\n",
            "8x8/Conv1_down       2359808   (?, 512, 4, 4)      (3, 3, 512, 512)\n",
            "8x8/Skip             262144    (?, 512, 4, 4)      (1, 1, 512, 512)\n",
            "4x4/MinibatchStddev  -         (?, 513, 4, 4)      -               \n",
            "4x4/Conv             2364416   (?, 512, 4, 4)      (3, 3, 513, 512)\n",
            "4x4/Dense0           4194816   (?, 512)            (8192, 512)     \n",
            "Output               513       (?, 1)              (512, 1)        \n",
            "scores_out           -         (?, 1)              -               \n",
            "---                  ---       ---                 ---             \n",
            "Total                28863873                                      \n",
            "\n",
            "Building TensorFlow graph...\n",
            "Initializing logs...\n",
            "Training for 25000 kimg...\n",
            "\n",
            "tick 0     kimg 0.1      lod 0.00  minibatch 32   time 43s          sec/tick 42.9    sec/kimg 334.90  maintenance 0.0    gpumem 6.1\n"
          ],
          "name": "stdout"
        }
      ]
    }
  ]
}